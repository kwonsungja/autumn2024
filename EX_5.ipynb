{
  "nbformat": 4,
  "nbformat_minor": 0,
  "metadata": {
    "colab": {
      "provenance": [],
      "authorship_tag": "ABX9TyO0RG/KKmm9vapTmU3ZFrk+",
      "include_colab_link": true
    },
    "kernelspec": {
      "name": "python3",
      "display_name": "Python 3"
    },
    "language_info": {
      "name": "python"
    }
  },
  "cells": [
    {
      "cell_type": "markdown",
      "metadata": {
        "id": "view-in-github",
        "colab_type": "text"
      },
      "source": [
        "<a href=\"https://colab.research.google.com/github/kwonsungja/autumn2024/blob/main/EX_5.ipynb\" target=\"_parent\"><img src=\"https://colab.research.google.com/assets/colab-badge.svg\" alt=\"Open In Colab\"/></a>"
      ]
    },
    {
      "cell_type": "code",
      "execution_count": 4,
      "metadata": {
        "colab": {
          "base_uri": "https://localhost:8080/"
        },
        "id": "WIRIziQK-X7k",
        "outputId": "eba025d3-9420-4f2a-bc92-cf52aadfe06e"
      },
      "outputs": [
        {
          "output_type": "stream",
          "name": "stdout",
          "text": [
            "Requirement already satisfied: gTTS in /usr/local/lib/python3.10/dist-packages (2.5.3)\n",
            "Requirement already satisfied: requests<3,>=2.27 in /usr/local/lib/python3.10/dist-packages (from gTTS) (2.32.3)\n",
            "Requirement already satisfied: click<8.2,>=7.1 in /usr/local/lib/python3.10/dist-packages (from gTTS) (8.1.7)\n",
            "Requirement already satisfied: charset-normalizer<4,>=2 in /usr/local/lib/python3.10/dist-packages (from requests<3,>=2.27->gTTS) (3.4.0)\n",
            "Requirement already satisfied: idna<4,>=2.5 in /usr/local/lib/python3.10/dist-packages (from requests<3,>=2.27->gTTS) (3.10)\n",
            "Requirement already satisfied: urllib3<3,>=1.21.1 in /usr/local/lib/python3.10/dist-packages (from requests<3,>=2.27->gTTS) (2.2.3)\n",
            "Requirement already satisfied: certifi>=2017.4.17 in /usr/local/lib/python3.10/dist-packages (from requests<3,>=2.27->gTTS) (2024.8.30)\n"
          ]
        }
      ],
      "source": [
        "# Install gTTS (Google Text-To-Speech)\n",
        "!pip install gTTS"
      ]
    },
    {
      "cell_type": "code",
      "source": [
        "# Install the necessary libraries if not already installed\n",
        "\n",
        "from gtts import gTTS\n",
        "from IPython.display import Audio\n",
        "import os\n",
        "\n",
        "def text_to_audio_and_play(text):\n",
        "    tts = gTTS(text)\n",
        "    filename = \"temp_audio.mp3\"\n",
        "    tts.save(filename)\n",
        "    display(Audio(filename, autoplay=True))\n",
        "    os.remove(filename)\n",
        "\n",
        "# Usage\n",
        "text_to_speak = input(\"Type what you want to hear: \")\n",
        "text_to_audio_and_play(text_to_speak)\n"
      ],
      "metadata": {
        "id": "G050euCtAXtU"
      },
      "execution_count": null,
      "outputs": []
    },
    {
      "cell_type": "code",
      "source": [
        "# 예시: 플래시카드 내용 (단어와 설명)\n",
        "flashcard_text = \"Python is a high-level programming language that is easy to learn and widely used.\"\n",
        "\n",
        "# 텍스트를 음성으로 변환 (언어는 영어로 설정)\n",
        "tts = gTTS(flashcard_text, lang='en')\n",
        "\n",
        "# 음성 파일을 저장\n",
        "tts.save(\"flashcard_audio.mp3\")\n",
        "\n",
        "print(\"Audio file saved as 'flashcard_audio.mp3'\")"
      ],
      "metadata": {
        "colab": {
          "base_uri": "https://localhost:8080/"
        },
        "id": "1f5eehLkAvU5",
        "outputId": "81a7055a-467f-4b09-f3db-b5d13d948d94"
      },
      "execution_count": 9,
      "outputs": [
        {
          "output_type": "stream",
          "name": "stdout",
          "text": [
            "Audio file saved as 'flashcard_audio.mp3'\n"
          ]
        }
      ]
    }
  ]
}