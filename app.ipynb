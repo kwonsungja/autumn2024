{
  "nbformat": 4,
  "nbformat_minor": 0,
  "metadata": {
    "colab": {
      "provenance": [],
      "authorship_tag": "ABX9TyMcvUqTsVb16kfR5dj+cqI1",
      "include_colab_link": true
    },
    "kernelspec": {
      "name": "python3",
      "display_name": "Python 3"
    },
    "language_info": {
      "name": "python"
    }
  },
  "cells": [
    {
      "cell_type": "markdown",
      "metadata": {
        "id": "view-in-github",
        "colab_type": "text"
      },
      "source": [
        "<a href=\"https://colab.research.google.com/github/kwonsungja/autumn2024/blob/main/app.ipynb\" target=\"_parent\"><img src=\"https://colab.research.google.com/assets/colab-badge.svg\" alt=\"Open In Colab\"/></a>"
      ]
    },
    {
      "cell_type": "code",
      "source": [
        "from google.colab import files\n",
        "\n",
        "uploaded = files.upload()  # Upload a CSV file manually\n",
        "df = pd.read_csv('nouns.csv')  # Replace 'your_file.csv' with the file name\n",
        "print(df.head())  # Show the first few rows"
      ],
      "metadata": {
        "colab": {
          "base_uri": "https://localhost:8080/",
          "height": 182
        },
        "id": "LG4vAVZmFXSn",
        "outputId": "ee9cff70-ac18-4461-f50d-732fea12f9ac"
      },
      "execution_count": 52,
      "outputs": [
        {
          "output_type": "display_data",
          "data": {
            "text/plain": [
              "<IPython.core.display.HTML object>"
            ],
            "text/html": [
              "\n",
              "     <input type=\"file\" id=\"files-09b54b62-4c1f-46cf-9373-0dd73af2f813\" name=\"files[]\" multiple disabled\n",
              "        style=\"border:none\" />\n",
              "     <output id=\"result-09b54b62-4c1f-46cf-9373-0dd73af2f813\">\n",
              "      Upload widget is only available when the cell has been executed in the\n",
              "      current browser session. Please rerun this cell to enable.\n",
              "      </output>\n",
              "      <script>// Copyright 2017 Google LLC\n",
              "//\n",
              "// Licensed under the Apache License, Version 2.0 (the \"License\");\n",
              "// you may not use this file except in compliance with the License.\n",
              "// You may obtain a copy of the License at\n",
              "//\n",
              "//      http://www.apache.org/licenses/LICENSE-2.0\n",
              "//\n",
              "// Unless required by applicable law or agreed to in writing, software\n",
              "// distributed under the License is distributed on an \"AS IS\" BASIS,\n",
              "// WITHOUT WARRANTIES OR CONDITIONS OF ANY KIND, either express or implied.\n",
              "// See the License for the specific language governing permissions and\n",
              "// limitations under the License.\n",
              "\n",
              "/**\n",
              " * @fileoverview Helpers for google.colab Python module.\n",
              " */\n",
              "(function(scope) {\n",
              "function span(text, styleAttributes = {}) {\n",
              "  const element = document.createElement('span');\n",
              "  element.textContent = text;\n",
              "  for (const key of Object.keys(styleAttributes)) {\n",
              "    element.style[key] = styleAttributes[key];\n",
              "  }\n",
              "  return element;\n",
              "}\n",
              "\n",
              "// Max number of bytes which will be uploaded at a time.\n",
              "const MAX_PAYLOAD_SIZE = 100 * 1024;\n",
              "\n",
              "function _uploadFiles(inputId, outputId) {\n",
              "  const steps = uploadFilesStep(inputId, outputId);\n",
              "  const outputElement = document.getElementById(outputId);\n",
              "  // Cache steps on the outputElement to make it available for the next call\n",
              "  // to uploadFilesContinue from Python.\n",
              "  outputElement.steps = steps;\n",
              "\n",
              "  return _uploadFilesContinue(outputId);\n",
              "}\n",
              "\n",
              "// This is roughly an async generator (not supported in the browser yet),\n",
              "// where there are multiple asynchronous steps and the Python side is going\n",
              "// to poll for completion of each step.\n",
              "// This uses a Promise to block the python side on completion of each step,\n",
              "// then passes the result of the previous step as the input to the next step.\n",
              "function _uploadFilesContinue(outputId) {\n",
              "  const outputElement = document.getElementById(outputId);\n",
              "  const steps = outputElement.steps;\n",
              "\n",
              "  const next = steps.next(outputElement.lastPromiseValue);\n",
              "  return Promise.resolve(next.value.promise).then((value) => {\n",
              "    // Cache the last promise value to make it available to the next\n",
              "    // step of the generator.\n",
              "    outputElement.lastPromiseValue = value;\n",
              "    return next.value.response;\n",
              "  });\n",
              "}\n",
              "\n",
              "/**\n",
              " * Generator function which is called between each async step of the upload\n",
              " * process.\n",
              " * @param {string} inputId Element ID of the input file picker element.\n",
              " * @param {string} outputId Element ID of the output display.\n",
              " * @return {!Iterable<!Object>} Iterable of next steps.\n",
              " */\n",
              "function* uploadFilesStep(inputId, outputId) {\n",
              "  const inputElement = document.getElementById(inputId);\n",
              "  inputElement.disabled = false;\n",
              "\n",
              "  const outputElement = document.getElementById(outputId);\n",
              "  outputElement.innerHTML = '';\n",
              "\n",
              "  const pickedPromise = new Promise((resolve) => {\n",
              "    inputElement.addEventListener('change', (e) => {\n",
              "      resolve(e.target.files);\n",
              "    });\n",
              "  });\n",
              "\n",
              "  const cancel = document.createElement('button');\n",
              "  inputElement.parentElement.appendChild(cancel);\n",
              "  cancel.textContent = 'Cancel upload';\n",
              "  const cancelPromise = new Promise((resolve) => {\n",
              "    cancel.onclick = () => {\n",
              "      resolve(null);\n",
              "    };\n",
              "  });\n",
              "\n",
              "  // Wait for the user to pick the files.\n",
              "  const files = yield {\n",
              "    promise: Promise.race([pickedPromise, cancelPromise]),\n",
              "    response: {\n",
              "      action: 'starting',\n",
              "    }\n",
              "  };\n",
              "\n",
              "  cancel.remove();\n",
              "\n",
              "  // Disable the input element since further picks are not allowed.\n",
              "  inputElement.disabled = true;\n",
              "\n",
              "  if (!files) {\n",
              "    return {\n",
              "      response: {\n",
              "        action: 'complete',\n",
              "      }\n",
              "    };\n",
              "  }\n",
              "\n",
              "  for (const file of files) {\n",
              "    const li = document.createElement('li');\n",
              "    li.append(span(file.name, {fontWeight: 'bold'}));\n",
              "    li.append(span(\n",
              "        `(${file.type || 'n/a'}) - ${file.size} bytes, ` +\n",
              "        `last modified: ${\n",
              "            file.lastModifiedDate ? file.lastModifiedDate.toLocaleDateString() :\n",
              "                                    'n/a'} - `));\n",
              "    const percent = span('0% done');\n",
              "    li.appendChild(percent);\n",
              "\n",
              "    outputElement.appendChild(li);\n",
              "\n",
              "    const fileDataPromise = new Promise((resolve) => {\n",
              "      const reader = new FileReader();\n",
              "      reader.onload = (e) => {\n",
              "        resolve(e.target.result);\n",
              "      };\n",
              "      reader.readAsArrayBuffer(file);\n",
              "    });\n",
              "    // Wait for the data to be ready.\n",
              "    let fileData = yield {\n",
              "      promise: fileDataPromise,\n",
              "      response: {\n",
              "        action: 'continue',\n",
              "      }\n",
              "    };\n",
              "\n",
              "    // Use a chunked sending to avoid message size limits. See b/62115660.\n",
              "    let position = 0;\n",
              "    do {\n",
              "      const length = Math.min(fileData.byteLength - position, MAX_PAYLOAD_SIZE);\n",
              "      const chunk = new Uint8Array(fileData, position, length);\n",
              "      position += length;\n",
              "\n",
              "      const base64 = btoa(String.fromCharCode.apply(null, chunk));\n",
              "      yield {\n",
              "        response: {\n",
              "          action: 'append',\n",
              "          file: file.name,\n",
              "          data: base64,\n",
              "        },\n",
              "      };\n",
              "\n",
              "      let percentDone = fileData.byteLength === 0 ?\n",
              "          100 :\n",
              "          Math.round((position / fileData.byteLength) * 100);\n",
              "      percent.textContent = `${percentDone}% done`;\n",
              "\n",
              "    } while (position < fileData.byteLength);\n",
              "  }\n",
              "\n",
              "  // All done.\n",
              "  yield {\n",
              "    response: {\n",
              "      action: 'complete',\n",
              "    }\n",
              "  };\n",
              "}\n",
              "\n",
              "scope.google = scope.google || {};\n",
              "scope.google.colab = scope.google.colab || {};\n",
              "scope.google.colab._files = {\n",
              "  _uploadFiles,\n",
              "  _uploadFilesContinue,\n",
              "};\n",
              "})(self);\n",
              "</script> "
            ]
          },
          "metadata": {}
        },
        {
          "output_type": "stream",
          "name": "stdout",
          "text": [
            "Saving nouns.csv to nouns (6).csv\n",
            "   0    Singular      Plural  Difficulty Level\n",
            "0  1       sheep       sheep                 1\n",
            "1  2        deer        deer                 1\n",
            "2  3   offspring   offspring                 1\n",
            "3  4  crossroads  crossroads                 1\n",
            "4  5         man         men                 2\n"
          ]
        }
      ]
    },
    {
      "cell_type": "code",
      "source": [
        "print(\"NounSmart\")\n",
        "print (\"Basic rules for forming regular plural nouns.\")\n",
        "print (\"Add –s to the singular noun.\") #-s"
      ],
      "metadata": {
        "colab": {
          "base_uri": "https://localhost:8080/"
        },
        "id": "WtOD32aXJsqh",
        "outputId": "25cf0406-aeb4-4bd5-a3aa-119042db44aa"
      },
      "execution_count": 55,
      "outputs": [
        {
          "output_type": "stream",
          "name": "stdout",
          "text": [
            "NounSmart\n",
            "Basic rules for forming regular plural nouns.\n",
            "Add –s to the singular noun.\n"
          ]
        }
      ]
    },
    {
      "cell_type": "code",
      "source": [
        "def add_s_to_nouns(nouns):\n",
        "    # 모든 명사에 '-s'를 추가하여 복수형으로 변환합니다.\n",
        "    return [noun + 's' for noun in nouns]\n",
        "\n",
        "# 단수 명사 리스트\n",
        "singular_nouns = [\"plane\", \"apple\", \"book\", \"house\", \"computer\", \"chair\", \"dog\", \"tree\"]\n",
        "\n",
        "# '-s'가 추가된 복수형 명사 리스트\n",
        "plural_nouns = add_s_to_nouns(singular_nouns)\n",
        "\n",
        "print(\"Singular Nouns:\", singular_nouns)\n",
        "print(\"Nouns with -s added:\", plural_nouns)"
      ],
      "metadata": {
        "colab": {
          "base_uri": "https://localhost:8080/"
        },
        "id": "8DZkgzKmLx1f",
        "outputId": "dd02e9ff-b34d-4b07-c516-9ce59bfec5ad"
      },
      "execution_count": 64,
      "outputs": [
        {
          "output_type": "stream",
          "name": "stdout",
          "text": [
            "Singular Nouns: ['plane', 'apple', 'book', 'house', 'computer', 'chair', 'dog', 'tree']\n",
            "Nouns with -s added: ['planes', 'apples', 'books', 'houses', 'computers', 'chairs', 'dogs', 'trees']\n"
          ]
        }
      ]
    },
    {
      "cell_type": "code",
      "source": [
        "print (\"Add –es to nouns ending in –s, -ss, -sh, -ch, -x, or –z.\")  #-es\n",
        "def pluralize_noun(noun):\n",
        "    # 명사가 특정 문자로 끝나면 '-es'를 추가하여 복수형을 만듭니다.\n",
        "    if noun.endswith(('s', 'ss', 'sh', 'ch', 'x', 'z')):\n",
        "        return noun + 'es'\n",
        "    else:\n",
        "        return noun + 's'  # 일반적인 경우에는 '-s'를 추가합니다.\n",
        "\n",
        "# 테스트할 명사 리스트\n",
        "nouns = [\"bus\", \"class\", \"dish\", \"church\", \"box\", \"fox\", \"match\", \"kiss\", \"car\", \"tree\"]\n",
        "\n",
        "# 각 명사를 복수형으로 변환\n",
        "plural_nouns = [pluralize_noun(noun) for noun in nouns]\n",
        "\n",
        "print(\"Singular Nouns:\", nouns)\n",
        "print(\"Plural Nouns:\", plural_nouns)"
      ],
      "metadata": {
        "colab": {
          "base_uri": "https://localhost:8080/"
        },
        "id": "zmDWAyf7NWis",
        "outputId": "d529f969-b082-4d44-a916-ea80ac818967"
      },
      "execution_count": 63,
      "outputs": [
        {
          "output_type": "stream",
          "name": "stdout",
          "text": [
            "Add –esto nouns ending in –s, -ss, -sh, -ch, -x, or –z.\n",
            "Singular Nouns: ['bus', 'class', 'dish', 'church', 'box', 'fox', 'match', 'kiss', 'car', 'tree']\n",
            "Plural Nouns: ['buses', 'classes', 'dishes', 'churches', 'boxes', 'foxes', 'matches', 'kisses', 'cars', 'trees']\n"
          ]
        }
      ]
    },
    {
      "cell_type": "code",
      "source": [
        "print (\"Write the plural form of each noun. (-ies)\")   #-ies\n",
        "def convert_to_plural_ies(nouns):\n",
        "    # 각 명사에 대해 '-y'를 '-ies'로 변환하여 복수형으로 만듭니다.\n",
        "    plural_nouns = []\n",
        "    for noun in nouns:\n",
        "        if noun.endswith('y') and len(noun) > 1 and noun[-2] not in 'aeiou':\n",
        "            # '-y'를 '-ies'로 바꿔 복수형을 만듭니다.\n",
        "            plural_nouns.append(noun[:-1] + 'ies')\n",
        "        else:\n",
        "            # 일반적인 경우에는 '-s'를 추가합니다.\n",
        "            plural_nouns.append(noun + 's')\n",
        "    return plural_nouns\n",
        "\n",
        "# 단수 명사 리스트\n",
        "singular_nouns = [\"baby\", \"city\", \"lady\", \"party\", \"story\", \"puppy\", \"berry\", \"family\"]\n",
        "\n",
        "# '-ies'로 변환된 복수형 명사 리스트\n",
        "plural_nouns = convert_to_plural_ies(singular_nouns)\n",
        "\n",
        "print(\"Singular Nouns:\", singular_nouns)\n",
        "print(\"Plural Nouns with -ies added:\", plural_nouns)"
      ],
      "metadata": {
        "colab": {
          "base_uri": "https://localhost:8080/"
        },
        "id": "380axrmZRAqc",
        "outputId": "a1776a47-3de4-4f69-a399-0d02168c421b"
      },
      "execution_count": 65,
      "outputs": [
        {
          "output_type": "stream",
          "name": "stdout",
          "text": [
            "Write the plural form of each noun. (-ies)\n",
            "Singular Nouns: ['baby', 'city', 'lady', 'party', 'story', 'puppy', 'berry', 'family']\n",
            "Plural Nouns with -ies added: ['babies', 'cities', 'ladies', 'parties', 'stories', 'puppies', 'berries', 'families']\n"
          ]
        }
      ]
    },
    {
      "cell_type": "code",
      "source": [
        "print (\"Write the plural form of each noun. (–es)\") # o로 끝나는 명사다음에 -es\n",
        "def convert_to_plural_es(nouns):\n",
        "    # 각 명사에 대해 'o'로 끝나는 경우 '-es'를 붙여 복수형으로 만듭니다.\n",
        "    plural_nouns = []\n",
        "    for noun in nouns:\n",
        "        if noun.endswith('o') and len(noun) > 1 and noun[-2] not in 'aeiou':\n",
        "            # 'o'로 끝나고 그 앞에 자음이 있는 경우 '-es'를 붙입니다.\n",
        "            plural_nouns.append(noun + 'es')\n",
        "        else:\n",
        "            # 일반적인 경우에는 '-s'를 추가합니다.\n",
        "            plural_nouns.append(noun + 's')\n",
        "    return plural_nouns\n",
        "\n",
        "# 단수 명사 리스트\n",
        "singular_nouns = [\"tomato\", \"hero\", \"potato\", \"echo\", \"veto\", \"tornado\", \"mosquito\", \"volcano\"]\n",
        "\n",
        "# '-es'로 변환된 복수형 명사 리스트\n",
        "plural_nouns = convert_to_plural_es(singular_nouns)\n",
        "\n",
        "print(\"Singular Nouns:\", singular_nouns)\n",
        "print(\"Plural Nouns with -es added:\", plural_nouns)"
      ],
      "metadata": {
        "colab": {
          "base_uri": "https://localhost:8080/"
        },
        "id": "4DOCm5RgSiyf",
        "outputId": "585e844f-894e-4c2f-840b-6dd09c363745"
      },
      "execution_count": 66,
      "outputs": [
        {
          "output_type": "stream",
          "name": "stdout",
          "text": [
            "Write the plural form of each noun. (–es)\n",
            "Singular Nouns: ['tomato', 'hero', 'potato', 'echo', 'veto', 'tornado', 'mosquito', 'volcano']\n",
            "Plural Nouns with -es added: ['tomatoes', 'heroes', 'potatoes', 'echoes', 'vetoes', 'tornadoes', 'mosquitoes', 'volcanoes']\n"
          ]
        }
      ]
    },
    {
      "cell_type": "code",
      "source": [
        "print(\"Write the plural form of each noun.\")   # 무작위로 명사가 주어졌을때\n",
        "def pluralize_irregular_nouns(nouns):\n",
        "    # 불규칙 명사의 복수형을 정의한 사전\n",
        "    irregular_nouns = {\n",
        "        \"sheep\": \"sheep\",\n",
        "        \"child\": \"children\",\n",
        "        \"wolf\": \"wolves\",\n",
        "        \"man\": \"men\",\n",
        "        \"deer\": \"deer\",\n",
        "        \"goose\": \"geese\",\n",
        "        \"series\": \"series\",\n",
        "        \"leaf\": \"leaves\"\n",
        "    }\n",
        "\n",
        "    plural_nouns = []\n",
        "    for noun in nouns:\n",
        "        # 불규칙 명사일 경우 사전에서 복수형을 찾습니다.\n",
        "        if noun in irregular_nouns:\n",
        "            plural_nouns.append(irregular_nouns[noun])\n",
        "        else:\n",
        "            # 규칙 명사일 경우 기본적으로 '-s'를 추가합니다.\n",
        "            plural_nouns.append(noun + 's')\n",
        "\n",
        "    return plural_nouns\n",
        "\n",
        "# 단수 명사 리스트\n",
        "singular_nouns = [\"sheep\", \"child\", \"wolf\", \"man\", \"deer\", \"goose\", \"series\", \"leaf\"]\n",
        "\n",
        "# 복수형 명사 리스트\n",
        "plural_nouns = pluralize_irregular_nouns(singular_nouns)\n",
        "\n",
        "print(\"Singular Nouns:\", singular_nouns)\n",
        "print(\"Plural Nouns:\", plural_nouns)"
      ],
      "metadata": {
        "colab": {
          "base_uri": "https://localhost:8080/"
        },
        "id": "D_0COzKgUgfY",
        "outputId": "a6286cfb-ebf9-4cbc-bb45-60bca66ca69f"
      },
      "execution_count": 67,
      "outputs": [
        {
          "output_type": "stream",
          "name": "stdout",
          "text": [
            "Write the plural form of each noun.\n",
            "Singular Nouns: ['sheep', 'child', 'wolf', 'man', 'deer', 'goose', 'series', 'leaf']\n",
            "Plural Nouns: ['sheep', 'children', 'wolves', 'men', 'deer', 'geese', 'series', 'leaves']\n"
          ]
        }
      ]
    },
    {
      "cell_type": "code",
      "source": [
        "print(\"the right form to fit the determiner before the blank.\")   # 한정사에 맞는 명사작성\n",
        "def pluralize(noun):\n",
        "    \"\"\"Simple pluralization logic.\"\"\"\n",
        "    if noun.endswith(('s', 'ss', 'sh', 'ch', 'x', 'z')):\n",
        "        return noun + 'es'\n",
        "    elif noun.endswith('y') and noun[-2] not in 'aeiou':\n",
        "        return noun[:-1] + 'ies'\n",
        "    elif noun.endswith('o') and noun[-2] not in 'aeiou':\n",
        "        return noun + 'es'\n",
        "    else:\n",
        "        return noun + 's'\n",
        "\n",
        "def determine_noun_form(determiner, noun):\n",
        "    singular_determiners = ['a', 'an', 'each', 'every', 'another', 'this', 'that']\n",
        "    plural_determiners = ['these', 'those', 'both', 'several', 'many', 'much']\n",
        "\n",
        "    if determiner in singular_determiners:\n",
        "        return f\"{determiner} {noun}\"\n",
        "    elif determiner in plural_determiners:\n",
        "        plural_noun = pluralize(noun)\n",
        "        return f\"{determiner} {plural_noun}\"\n",
        "    else:\n",
        "        raise ValueError(\"Determiner not recognized\")\n",
        "\n",
        "# Test examples\n",
        "nouns = [\"city\", \"bus\", \"child\", \"man\"]\n",
        "determiners = [\"several\", \"every\", \"both\", \"another\"]\n",
        "\n",
        "for noun in nouns:\n",
        "    for determiner in determiners:\n",
        "        try:\n",
        "            result = determine_noun_form(determiner, noun)\n",
        "            print(result)\n",
        "        except ValueError as e:\n",
        "            print(e)"
      ],
      "metadata": {
        "colab": {
          "base_uri": "https://localhost:8080/"
        },
        "id": "EnSU17CEWZBl",
        "outputId": "458d34bb-227a-4250-fcd5-2aaeb63b22e7"
      },
      "execution_count": 68,
      "outputs": [
        {
          "output_type": "stream",
          "name": "stdout",
          "text": [
            "the right form to fit the determiner before the blank.\n",
            "several cities\n",
            "every city\n",
            "both cities\n",
            "another city\n",
            "several buses\n",
            "every bus\n",
            "both buses\n",
            "another bus\n",
            "several childs\n",
            "every child\n",
            "both childs\n",
            "another child\n",
            "several mans\n",
            "every man\n",
            "both mans\n",
            "another man\n"
          ]
        }
      ]
    },
    {
      "cell_type": "code",
      "source": [
        "print(\"Fill in the blank with the appropriate form.\")   #적절한 명사형태 적기\n",
        "def pluralize(noun):\n",
        "    \"\"\"Convert a singular noun to its plural form.\"\"\"\n",
        "    if noun.endswith(('s', 'ss', 'sh', 'ch', 'x', 'z')):\n",
        "        return noun + 'es'\n",
        "    elif noun.endswith('y') and noun[-2] not in 'aeiou':\n",
        "        return noun[:-1] + 'ies'\n",
        "    elif noun.endswith('o') and noun[-2] not in 'aeiou':\n",
        "        return noun + 'es'\n",
        "    else:\n",
        "        return noun + 's'\n",
        "\n",
        "def suggest_noun_form(verb_phrase, noun):\n",
        "    \"\"\"Suggest the noun form based on the verb phrase.\"\"\"\n",
        "    # Check if the verb phrase indicates plural\n",
        "    if 'were' in verb_phrase or 'are' in verb_phrase:\n",
        "        return pluralize(noun)\n",
        "    elif 'was' in verb_phrase or 'is' in verb_phrase:\n",
        "        return noun\n",
        "    else:\n",
        "        raise ValueError(\"Verb phrase not recognized or unsupported verb form\")\n",
        "\n",
        "# Example usage\n",
        "sentence = \"______ were laid down on the blanket.\"\n",
        "given_noun = \"baby\"\n",
        "\n",
        "try:\n",
        "    correct_noun_form = suggest_noun_form(sentence, given_noun)\n",
        "    print(f\"The correct noun form for the sentence is: {correct_noun_form}\")\n",
        "except ValueError as e:\n",
        "    print(e)"
      ],
      "metadata": {
        "colab": {
          "base_uri": "https://localhost:8080/"
        },
        "id": "hkyUbizWZMBx",
        "outputId": "37219ce6-9382-455e-b0c8-83c3de9271ce"
      },
      "execution_count": 69,
      "outputs": [
        {
          "output_type": "stream",
          "name": "stdout",
          "text": [
            "Fill in the blank with the appropriate form.\n",
            "The correct noun form for the sentence is: babies\n"
          ]
        }
      ]
    }
  ]
}